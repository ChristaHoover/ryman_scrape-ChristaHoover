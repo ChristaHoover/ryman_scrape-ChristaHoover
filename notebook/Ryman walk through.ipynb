{
 "cells": [
  {
   "cell_type": "code",
   "execution_count": 1,
   "id": "871cfbd0",
   "metadata": {},
   "outputs": [],
   "source": [
    "import requests\n",
    "import pandas as pd\n",
    "import regex as re\n",
    "from bs4 import BeautifulSoup as bs"
   ]
  },
  {
   "cell_type": "code",
   "execution_count": 2,
   "id": "6a625cd3",
   "metadata": {},
   "outputs": [],
   "source": [
    "url = 'https://ryman.com/events/list/?tribe_event_display=list&tribe_paged=1'"
   ]
  },
  {
   "cell_type": "code",
   "execution_count": 3,
   "id": "871d97f6",
   "metadata": {},
   "outputs": [],
   "source": [
    "response = requests.get(url + str(1))"
   ]
  },
  {
   "cell_type": "code",
   "execution_count": 4,
   "id": "dd11bafa",
   "metadata": {},
   "outputs": [],
   "source": [
    "soup =bs(response.content)"
   ]
  },
  {
   "cell_type": "code",
   "execution_count": 5,
   "id": "1a3705f7",
   "metadata": {},
   "outputs": [],
   "source": [
    "artist_soup = soup.findAll('a', attrs = {'class' : 'tribe-event-url'})"
   ]
  },
  {
   "cell_type": "code",
   "execution_count": 6,
   "id": "3c85da1d",
   "metadata": {},
   "outputs": [
    {
     "data": {
      "text/plain": [
       "[]"
      ]
     },
     "execution_count": 6,
     "metadata": {},
     "output_type": "execute_result"
    }
   ],
   "source": [
    "#getting the names of the artists\n",
    "artist_list = [x['title'] for x in artist_soup]\n",
    "artist_list"
   ]
  },
  {
   "cell_type": "code",
   "execution_count": 7,
   "id": "c8e9d178",
   "metadata": {},
   "outputs": [
    {
     "data": {
      "text/plain": [
       "0"
      ]
     },
     "execution_count": 7,
     "metadata": {},
     "output_type": "execute_result"
    }
   ],
   "source": [
    "#getting the length\n",
    "len(artist_list)"
   ]
  },
  {
   "cell_type": "code",
   "execution_count": 8,
   "id": "27526ad5",
   "metadata": {},
   "outputs": [
    {
     "data": {
      "text/plain": [
       "[]"
      ]
     },
     "execution_count": 8,
     "metadata": {},
     "output_type": "execute_result"
    }
   ],
   "source": [
    "time_soup = soup.findAll('time')\n",
    "time_soup"
   ]
  },
  {
   "cell_type": "code",
   "execution_count": 9,
   "id": "37d4fc71",
   "metadata": {},
   "outputs": [
    {
     "data": {
      "text/plain": [
       "[]"
      ]
     },
     "execution_count": 9,
     "metadata": {},
     "output_type": "execute_result"
    }
   ],
   "source": [
    "#pulling time and date form website\n",
    "time_group = [x.text for x in time_soup]\n",
    "time_group"
   ]
  },
  {
   "cell_type": "code",
   "execution_count": 10,
   "id": "102d5da6",
   "metadata": {},
   "outputs": [],
   "source": [
    "date_list = []\n",
    "time_list = []\n",
    "for time in time_group:\n",
    "    x= time.split(' at ')\n",
    "    y = x[0]\n",
    "    z = y.split('y, ')\n",
    "    date_list.append(z[1])\n",
    "    time_list.append(x[1])"
   ]
  },
  {
   "cell_type": "code",
   "execution_count": 11,
   "id": "64668c06",
   "metadata": {},
   "outputs": [
    {
     "data": {
      "text/plain": [
       "[]"
      ]
     },
     "execution_count": 11,
     "metadata": {},
     "output_type": "execute_result"
    }
   ],
   "source": [
    "date_list"
   ]
  },
  {
   "cell_type": "code",
   "execution_count": 12,
   "id": "6da30efc",
   "metadata": {},
   "outputs": [
    {
     "data": {
      "text/plain": [
       "[]"
      ]
     },
     "execution_count": 12,
     "metadata": {},
     "output_type": "execute_result"
    }
   ],
   "source": [
    "time_list"
   ]
  },
  {
   "cell_type": "code",
   "execution_count": 13,
   "id": "9c3df525",
   "metadata": {},
   "outputs": [
    {
     "data": {
      "text/html": [
       "<div>\n",
       "<style scoped>\n",
       "    .dataframe tbody tr th:only-of-type {\n",
       "        vertical-align: middle;\n",
       "    }\n",
       "\n",
       "    .dataframe tbody tr th {\n",
       "        vertical-align: top;\n",
       "    }\n",
       "\n",
       "    .dataframe thead th {\n",
       "        text-align: right;\n",
       "    }\n",
       "</style>\n",
       "<table border=\"1\" class=\"dataframe\">\n",
       "  <thead>\n",
       "    <tr style=\"text-align: right;\">\n",
       "      <th></th>\n",
       "      <th>artist</th>\n",
       "      <th>date</th>\n",
       "      <th>time</th>\n",
       "    </tr>\n",
       "  </thead>\n",
       "  <tbody>\n",
       "  </tbody>\n",
       "</table>\n",
       "</div>"
      ],
      "text/plain": [
       "Empty DataFrame\n",
       "Columns: [artist, date, time]\n",
       "Index: []"
      ]
     },
     "execution_count": 13,
     "metadata": {},
     "output_type": "execute_result"
    }
   ],
   "source": [
    "page_1_df = pd.DataFrame({'artist': artist_list, 'date' : date_list, 'time' : time_list})\n",
    "page_1_df"
   ]
  },
  {
   "cell_type": "code",
   "execution_count": 14,
   "id": "95f7269a",
   "metadata": {},
   "outputs": [
    {
     "ename": "NameError",
     "evalue": "name 'num' is not defined",
     "output_type": "error",
     "traceback": [
      "\u001b[1;31m---------------------------------------------------------------------------\u001b[0m",
      "\u001b[1;31mNameError\u001b[0m                                 Traceback (most recent call last)",
      "\u001b[1;32m~\\AppData\\Local\\Temp\\ipykernel_31284\\3035532485.py\u001b[0m in \u001b[0;36m<module>\u001b[1;34m\u001b[0m\n\u001b[0;32m      4\u001b[0m \u001b[1;33m\u001b[0m\u001b[0m\n\u001b[0;32m      5\u001b[0m \u001b[1;32mfor\u001b[0m \u001b[0mnu\u001b[0m \u001b[1;32min\u001b[0m \u001b[0mrange\u001b[0m\u001b[1;33m(\u001b[0m\u001b[1;36m1\u001b[0m\u001b[1;33m,\u001b[0m\u001b[1;36m6\u001b[0m\u001b[1;33m)\u001b[0m\u001b[1;33m:\u001b[0m\u001b[1;33m\u001b[0m\u001b[1;33m\u001b[0m\u001b[0m\n\u001b[1;32m----> 6\u001b[1;33m     \u001b[0mnew_url\u001b[0m \u001b[1;33m=\u001b[0m \u001b[0murl\u001b[0m \u001b[1;33m+\u001b[0m\u001b[0mstr\u001b[0m\u001b[1;33m(\u001b[0m\u001b[0mnum\u001b[0m\u001b[1;33m)\u001b[0m\u001b[1;33m\u001b[0m\u001b[1;33m\u001b[0m\u001b[0m\n\u001b[0m\u001b[0;32m      7\u001b[0m     \u001b[0mresposne\u001b[0m \u001b[1;33m-\u001b[0m \u001b[0mrequests\u001b[0m\u001b[1;33m.\u001b[0m\u001b[0mget\u001b[0m\u001b[1;33m(\u001b[0m\u001b[0mnew_url\u001b[0m\u001b[1;33m)\u001b[0m\u001b[1;33m\u001b[0m\u001b[1;33m\u001b[0m\u001b[0m\n\u001b[0;32m      8\u001b[0m     \u001b[0msoup\u001b[0m \u001b[1;33m=\u001b[0m \u001b[0mbs\u001b[0m\u001b[1;33m(\u001b[0m\u001b[0mresponse\u001b[0m\u001b[1;33m.\u001b[0m\u001b[0mcontent\u001b[0m\u001b[1;33m)\u001b[0m\u001b[1;33m\u001b[0m\u001b[1;33m\u001b[0m\u001b[0m\n",
      "\u001b[1;31mNameError\u001b[0m: name 'num' is not defined"
     ]
    }
   ],
   "source": [
    "main_artist_list = []\n",
    "main_time_list = []\n",
    "main_date_list = []\n",
    "\n",
    "for nu in range(1,6):\n",
    "    new_url = url +str(num)\n",
    "    resposne - requests.get(new_url)\n",
    "    soup = bs(response.content)\n",
    "    \n",
    "    artist_soup = soup.findAll('a', attrs = {'class' : 'tribe-event-url'})"
   ]
  },
  {
   "cell_type": "code",
   "execution_count": null,
   "id": "2d9c8879",
   "metadata": {},
   "outputs": [],
   "source": []
  }
 ],
 "metadata": {
  "kernelspec": {
   "display_name": "Python 3 (ipykernel)",
   "language": "python",
   "name": "python3"
  },
  "language_info": {
   "codemirror_mode": {
    "name": "ipython",
    "version": 3
   },
   "file_extension": ".py",
   "mimetype": "text/x-python",
   "name": "python",
   "nbconvert_exporter": "python",
   "pygments_lexer": "ipython3",
   "version": "3.9.13"
  }
 },
 "nbformat": 4,
 "nbformat_minor": 5
}
